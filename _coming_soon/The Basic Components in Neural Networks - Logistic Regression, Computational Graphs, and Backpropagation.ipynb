{
 "cells": [
  {
   "cell_type": "markdown",
   "metadata": {},
   "source": [
    "<a id = \"basics\"></a>\n",
    "## The Basic Components in Neural Networks: Logistic Regression, Computational Graphs, and Backpropagation\n",
    "\n",
    "---\n",
    "\n",
    "I'm sure you're ready to start understanding how our representations of neural networks are created. The good news is that starts now!\n",
    "\n",
    "<a id = \"logistic-regression\"></a>\n",
    "### Logistic Regression\n",
    "\n",
    "Remember when we explored the basics of neural networks within neuroscience? To reiterate, when a neuron recieves various neurotransmitters at its dendrites, its soma depolarizes. And if this soma's depolarization exceeds -55$mV$, the neuron reponds by sending an action potential through its axon down to the axon's terminals, which causes the release of its own neurotransmitters in the succeeding synapse(s).\n",
    "\n",
    "<p>\n",
    "<center><img src=\"https://upload.wikimedia.org/wikipedia/commons/4/4a/Action_potential.svg\" alt=\"Action Potential\" style=\"width: 400px;\"/></center>\n",
    "<center><em>Action Potential Created in a Neuron</em></center>\n",
    "</p>\n",
    "\n",
    "In machine learning, this response to neurotransmitter-caused depolarizations is approximated with logistic regression (shown below).\n",
    "\n",
    "<p>\n",
    "<center><img src=\"https://upload.wikimedia.org/wikipedia/commons/8/88/Logistic-curve.svg\" alt=\"Action Potential\" style=\"width: 400px;\"/></center>\n",
    "<center><em>Logistic Curve</em></center>\n",
    "</p>\n",
    "\n",
    "In machine learning, the logistic regression estimate of a neuron's action potential response is called an [activation function](https://en.wikipedia.org/wiki/Activation_function). As you probably suspected, an activation function represents the output of an artificial neuron, as shown below.\n",
    "\n",
    "<p>\n",
    "<center><img src=attachment:logistic-regression.png alt=\"Action Potential\" style=\"width: 500px;\"/></center>\n",
    "<center><em>Diagram of Artificial Neuron</em></center>\n",
    "</p>\n",
    "\n",
    "A logistic regression model, in the more general case, is used to model [posterior probabilities](https://en.wikipedia.org/wiki/Posterior_probability) of $K$ classes in a $K$-class classification problem using linear functions of $x$. Following from the [definition of probability](https://en.wikipedia.org/wiki/Probability), each model's output must stay within a $(0,1)$ interval such that the sum of all outputs in a given model equals one. When considering our matrix ${D}{\\in}{R^{n\\times m}}$ and letting $w_0,j = b_j$, the [logit transformations](https://en.wikipedia.org/wiki/Logit) for these probabilities are the following: <br/>\n",
    "$\\large {\\log}\\frac{p(y_j = 1|X = x_{\\ast,j})}{p(y_j = K|X = x_{\\ast,j})}= {b}_{j,1} + {w}^T_{\\ast,j,1}x_{\\ast,j},$ <br/>\n",
    "\n",
    "$\\large {\\log}\\frac{p(y_j = 2|X = x_{\\ast,j})}{p(y_j = K|X = x_{\\ast,j})}= {b}_{j,2} + {w}^T_{\\ast,j,2}x_{\\ast,j},$ <br/>\n",
    "\n",
    "$\\large \\vdots$<br/>\n",
    "\n",
    "$\\large {\\log}\\frac{p(y_j = K-1|X = x_{\\ast,j})}{p(y = K|X = x_{\\ast,j})}= {b}_{j,K-1} + {w}^T_{\\ast,j,K-1}x_{\\ast,j}.$ <br/>\n",
    "\n",
    "As shown above, we have $(K-1)$ logit transformations for each class, excluding our final $K^{th}$ class. Each logit transfomation takes the logarithm of the odds for each $(K-1)^{th}$ class's posterior probability. We use the final $K^{th}$ class's posterior probability as the denominator for our logit transformations. Although this choice is arbitrary, we choose this for convenience and readability of following derivations. Similarly, we assume each logarithm has a natural base $e$. The mathematically decerning person may wish to take the natural exponent of each logit transformation and sum them. The following is one such example: <br/>\n",
    "\n",
    "$\\large \\frac{{\\sum}^{K-1}_{\\ell = 1}p(y_j = \\ell | X = x_{\\ast,j})}{p(y_j = K | X = x_{\\ast,j})} = {\\sum}^{K-1}_{\\ell = 1}{\\exp(b_{j,\\ell} + w^T_{\\ast,j, \\ell}x_{\\ast,j})},$ <br/>\n",
    "\n",
    "$\\large \\frac{1 - p(y_j = K | X = x_{\\ast,j})}{p(y_j = K | X = x_{\\ast,j})} = {\\sum}^{K-1}_{\\ell = 1}{\\exp(b_{j,\\ell} + w^T_{\\ast,j, \\ell}x_{\\ast,j})},$ <br/>\n",
    "\n",
    "$\\large \\frac{1}{p(y_j = K | X = x_{\\ast,j})} = 1 + {\\sum}^{K-1}_{\\ell = 1}{\\exp(b_{j,\\ell} + w^T_{\\ast,j, \\ell}x_{\\ast,j})},$ <br/>\n",
    "\n",
    "$\\large p(y_j = K | X = x_{\\ast,j}) = \\frac{1}{1 + {\\sum}^{K-1}_{\\ell = 1}{\\exp(b_{j,\\ell} + w^T_{\\ast,j, \\ell}x_{\\ast,j})}}.$ <br/>\n",
    "\n",
    "Now, taking the natural exponent of the $k^{th}$ logit transformation, we get the following: <br/>\n",
    "\n",
    "$\\large \\frac{p(y_j = k | X = x_{\\ast,j})}{p(y_j = K | X = x_{\\ast,j})} = \\exp(b_{j,k} + w^T_{\\ast,j, k}x_{\\ast,j}),$ <br/>\n",
    "\n",
    "$\\large p(y_j = k | X = x_{\\ast,j}) = {\\exp(b_{j,k} + w^T_{\\ast,j,k}x_{\\ast,j})}{p(y_j = K | X = x_{\\ast,j})},$ <br/>\n",
    "\n",
    "$\\large p(y_j = k | X = x_{\\ast,j}) = \\frac{\\exp(b_{j,k} + w^T_{\\ast,j,k}x_{\\ast,j})}{1 + {\\sum}^{K-1}_{\\ell = 1}{\\exp(b_{j,\\ell} + w^T_{\\ast,j, \\ell}x_{\\ast,j})}}, k = 1,\\cdots,K-1.$<br/>\n",
    "\n",
    "Now, when we sum each posterior ptobability, we hope to get one: <br/>\n",
    "\n",
    "${\\sum}^{K-1}_{\\ell = 1}{\\exp(b_{j,\\ell} + w^T_{\\ast,j, \\ell}x_{\\ast,j})} + p(y_j = K | X = x_{\\ast,j}) = 1 -p(y_j = K | X = x_{\\ast,j}) + p(y_j = K | X = x_{\\ast,j}) = 1.$ <br/>\n",
    "\n",
    "Since we are simulating the binary case of a neuron creating an action potential or not, we'll be assuming the simple case in which $K = 2.$ Here, there will be two classes, one for when $y_j = 0$ and the second for when $y_j = 1.$\n",
    "\n",
    "Our posterior probability now becomes:\n",
    "\n",
    "$\\large p(y_j = 1 | X = x_{\\ast,j}) = \\frac{\\exp(b_{j} + w^T_{\\ast,j}x_{\\ast,j})}{1 + {\\exp(b_{j} + w^T_{\\ast,j}x_{\\ast,j})}} = \\frac{1}{1 + {\\exp(-(b_{j} + w^T_{\\ast,j}x_{\\ast,j}))}}.$<br/>\n",
    "\n",
    "By letting $z(x_{\\ast,j}) = b_{j} + w^T_{\\ast,j}x_{\\ast,j}$, \n",
    "\n",
    "$\\large p(y_j = 1 | X = x_{\\ast,j}) = \\frac{1}{1 + {\\exp(-z(x_{\\ast,j}))}}.$<br/>\n",
    "\n",
    "In case you haven't noticed by now, our formula for this posterior probability should look a lot like a [sigmoid function](https://en.wikipedia.org/wiki/Sigmoid_function). Therefore, given a feature vector $x_{\\ast,j}{\\in}{R^{n_x}},$ the posterior probability $P(y_j = 1 | x_{\\ast,j})$, i.e., the probability $y_j = 1$ given $x_{\\ast,j}$ is the following: <br/>\n",
    "\n",
    "$P(y_j = 1 | X = x_{\\ast,j}) = {\\sigma}(z(x_{\\ast,j}))$, where $z(x_{\\ast,j}) = {w^T_{\\ast,j}x_{\\ast,j} + b_j}.$ <br/>\n",
    "\n",
    "This mathematical derivation is just one part of this coverage of logistic regression. Now, we're ready to turn all this math into real code and apply it to some data.\n",
    "\n"
   ]
  },
  {
   "cell_type": "code",
   "execution_count": 22,
   "metadata": {},
   "outputs": [],
   "source": [
    "def initialize_params(feature_num, category):\n",
    "    if category == \"zeros\":\n",
    "        w = np.zeros([feature_num, 1])\n",
    "        b = 0\n",
    "    elif category == \"random\":\n",
    "        w = np.random.uniform(-1, 1,(feature_num, 1))\n",
    "        b = np.random.uniform(-1,1)\n",
    "        \n",
    "    assert(w.shape == (feature_num, 1))\n",
    "    assert(isinstance(b, float) or isinstance(b, int))\n",
    "    \n",
    "    return w, b"
   ]
  },
  {
   "cell_type": "code",
   "execution_count": 23,
   "metadata": {},
   "outputs": [
    {
     "name": "stdout",
     "output_type": "stream",
     "text": [
      "Parameter initialization function test. w = [[0.19060005]\n",
      " [0.12139745]\n",
      " [0.40948698]\n",
      " ...\n",
      " [0.12788014]\n",
      " [0.43575643]\n",
      " [0.94440681]] and b = 0.7718154807598041.\n",
      "w.shape: (12288, 1)\n"
     ]
    }
   ],
   "source": [
    "feature_num = train_images.shape[0]\n",
    "category = \"random\"\n",
    "\n",
    "w, b = initialize_params(feature_num, category)\n",
    "\n",
    "print(\"Parameter initialization function test. w = \" + str(w) + \" and b = \" + str(b) + \".\")\n",
    "print(\"w.shape: \" + str(w.shape))"
   ]
  },
  {
   "cell_type": "code",
   "execution_count": 24,
   "metadata": {},
   "outputs": [],
   "source": [
    "def multi2binary(labels, label):\n",
    "    binary_label = (labels == label).astype(int)\n",
    "    \n",
    "    return binary_label"
   ]
  },
  {
   "cell_type": "code",
   "execution_count": 25,
   "metadata": {},
   "outputs": [],
   "source": [
    "def sigmoid(z):\n",
    "\n",
    "    p = 1/(1+np.exp(-z))\n",
    "    \n",
    "    return p"
   ]
  },
  {
   "cell_type": "code",
   "execution_count": 26,
   "metadata": {},
   "outputs": [
    {
     "name": "stdout",
     "output_type": "stream",
     "text": [
      "Sigmoid function test: [1.]\n"
     ]
    }
   ],
   "source": [
    "i = 1\n",
    "\n",
    "z = np.dot(w.T,train_images[:,i]) + b\n",
    "\n",
    "print(\"Sigmoid function test: \" + str(sigmoid(z)))"
   ]
  },
  {
   "cell_type": "code",
   "execution_count": 27,
   "metadata": {},
   "outputs": [],
   "source": [
    "def prop(w, b, X, Y):\n",
    "    m = X.shape[0]\n",
    "    \n",
    "    # This portion executes forward propagation.\n",
    "    A = sigmoid(np.dot(w.T,X) + b)                           # compute activation\n",
    "    A[A == 1] = 0.999\n",
    "    A[A == 0] = 0.001\n",
    "    cost = (-1/m)*np.sum(Y*np.log(A) + (1 - Y)*np.log(1-A))  # compute cost\n",
    "    \n",
    "    # This potion executes backward propagation.\n",
    "    dw = (1/m)*np.dot(X, (A-Y).T)\n",
    "    db = (1/m)*np.sum(A-Y)\n",
    "\n",
    "    assert(dw.shape == w.shape)\n",
    "    assert(db.dtype == float)\n",
    "    cost = np.squeeze(cost)\n",
    "    assert(cost.shape == ())\n",
    "    \n",
    "    grads = {\"dw\": dw,\n",
    "             \"db\": db}\n",
    "    \n",
    "    return grads, cost"
   ]
  },
  {
   "cell_type": "code",
   "execution_count": 28,
   "metadata": {},
   "outputs": [
    {
     "name": "stdout",
     "output_type": "stream",
     "text": [
      "w: [[ 0.56862429]\n",
      " [-0.67217393]\n",
      " [-0.2213732 ]\n",
      " ...\n",
      " [ 0.94562762]\n",
      " [-0.22489095]\n",
      " [-0.86414506]]\n",
      "w.T.shape: (1, 12288)\n",
      "b: 0.13251611378443817\n",
      "train_images: [[1.         0.65490196 1.         ... 0.71372549 0.         0.14117647]\n",
      " [1.         0.62352941 1.         ... 0.72941176 0.         0.16078431]\n",
      " [1.         0.53333333 1.         ... 0.73333333 0.         0.18039216]\n",
      " ...\n",
      " [0.46666667 0.30980392 1.         ... 0.43137255 0.         0.91764706]\n",
      " [0.46666667 0.31764706 1.         ... 0.34901961 0.         0.83921569]\n",
      " [0.33333333 0.36470588 1.         ... 0.30980392 0.         0.78039216]]\n",
      "train_images.shape: (12288, 14434)\n",
      "train_lbl: [[0 0 0 ... 0 1 0]]\n",
      "train_lbl.shape: (1, 14434)\n",
      "dw = [[-0.0806036 ]\n",
      " [-0.07592524]\n",
      " [-0.07394634]\n",
      " ...\n",
      " [-0.07452865]\n",
      " [-0.07237913]\n",
      " [-0.07387791]]\n",
      "db = -0.321118692237644\n",
      "cost = 9.63533087351031\n"
     ]
    }
   ],
   "source": [
    "train_lbl = (train_labels == \"cassette player\").astype(int)\n",
    "feature_num = train_images.shape[0]\n",
    "category = \"random\"\n",
    "w, b = initialize_params(feature_num, category)\n",
    "print(\"w: \" + str(w))\n",
    "print(\"w.T.shape: \" + str(w.T.shape))\n",
    "print(\"b: \" + str(b))\n",
    "print(\"train_images: \" + str(train_images))\n",
    "print(\"train_images.shape: \" + str(train_images.shape))\n",
    "print(\"train_lbl: \" + str(train_lbl))\n",
    "print(\"train_lbl.shape: \" + str(train_lbl.shape))\n",
    "grads, cost = prop(w, b, train_images, train_lbl)\n",
    "\n",
    "\n",
    "print (\"dw = \" + str(grads[\"dw\"]))\n",
    "print (\"db = \" + str(grads[\"db\"]))\n",
    "print (\"cost = \" + str(cost))"
   ]
  },
  {
   "cell_type": "code",
   "execution_count": 29,
   "metadata": {},
   "outputs": [],
   "source": [
    "def optimize(w, b, X, Y, num_iterations, learning_rate, print_cost = False):\n",
    "    costs = []\n",
    "    \n",
    "    for i in range(num_iterations):\n",
    "        \n",
    "        \n",
    "        # Calculates cost and gradient.\n",
    "        grads, cost = prop(w, b, X, Y)\n",
    "        \n",
    "        # Assigns derivatives from grads.\n",
    "        dw = grads[\"dw\"]\n",
    "        db = grads[\"db\"]\n",
    "        \n",
    "        # Updating parameters.\n",
    "        w -= learning_rate*dw\n",
    "        b -= learning_rate*db\n",
    "        \n",
    "        # Save cost calculation.\n",
    "        costs.append(cost)\n",
    "        \n",
    "        # Displaying the cost after every 100th iteration.\n",
    "        if print_cost and i % 100 == 0:\n",
    "            print (\"Cost after iteration %i: %f\" %(i, cost))\n",
    "    \n",
    "    params = {\"w\": w,\n",
    "              \"b\": b}\n",
    "    \n",
    "    grads = {\"dw\": dw,\n",
    "             \"db\": db}\n",
    "    \n",
    "    return params, grads, costs"
   ]
  },
  {
   "cell_type": "code",
   "execution_count": 30,
   "metadata": {},
   "outputs": [],
   "source": [
    "def train(X_train, Y_train, X_test, Y_test, num_iterations = 2000, learning_rate = 0.5, print_cost = False):\n",
    "    print(\"Training model...\")\n",
    "    \n",
    "    # initialize parameters with zeros.\n",
    "    w, b = initialize_params(X_train.shape[0], \"zeros\")\n",
    "\n",
    "    # Gradient descent.\n",
    "    parameters, grads, costs = optimize(w, b, X_train, Y_train, num_iterations, learning_rate, print_cost)\n",
    "    \n",
    "    # Retrieve parameters w and b from dictionary \"parameters\".\n",
    "    w = parameters[\"w\"]\n",
    "    b = parameters[\"b\"]\n",
    "    \n",
    "    model = {\"costs\": costs, \n",
    "         \"w\" : w,\n",
    "         \"b\" : b,\n",
    "         \"learning_rate\" : learning_rate,\n",
    "         \"num_iterations\": num_iterations}\n",
    "    \n",
    "    print(\"Training complete!\")\n",
    "    print()\n",
    "    \n",
    "    return model"
   ]
  },
  {
   "cell_type": "code",
   "execution_count": 32,
   "metadata": {
    "scrolled": true
   },
   "outputs": [
    {
     "name": "stdout",
     "output_type": "stream",
     "text": [
      "Training model...\n",
      "Cost after iteration 0: 0.814200\n",
      "Cost after iteration 100: 0.487406\n",
      "Cost after iteration 200: 0.462986\n",
      "Cost after iteration 300: 0.450450\n",
      "Cost after iteration 400: 0.442208\n",
      "Cost after iteration 500: 0.436276\n",
      "Cost after iteration 600: 0.431733\n",
      "Cost after iteration 700: 0.428086\n",
      "Cost after iteration 800: 0.425051\n",
      "Cost after iteration 900: 0.422454\n",
      "Cost after iteration 1000: 0.420181\n",
      "Cost after iteration 1100: 0.418156\n",
      "Cost after iteration 1200: 0.416328\n",
      "Cost after iteration 1300: 0.414656\n",
      "Cost after iteration 1400: 0.413115\n",
      "Cost after iteration 1500: 0.411683\n",
      "Cost after iteration 1600: 0.410343\n",
      "Cost after iteration 1700: 0.409082\n",
      "Cost after iteration 1800: 0.407891\n",
      "Cost after iteration 1900: 0.406762\n",
      "Training complete!\n",
      "\n"
     ]
    }
   ],
   "source": [
    "train_label = (train_labels == \"cassette player\").astype(int)\n",
    "val_label = (val_labels == \"cassette player\").astype(int)\n",
    "\n",
    "model = train(train_images, train_label, val_images, val_label, num_iterations = 2000, learning_rate = 0.0043, print_cost = True)"
   ]
  },
  {
   "cell_type": "code",
   "execution_count": 33,
   "metadata": {},
   "outputs": [],
   "source": [
    "def predict(w, b, X):\n",
    "    m = X.shape[1]\n",
    "    Y_prediction = np.zeros((1,m))\n",
    "    w = w.reshape(X.shape[0], 1)\n",
    "    \n",
    "    # Compute probability vector containing the probabilities of the image belonging to our desired class.\n",
    "    p = sigmoid(np.dot(w.T,X) + b)   \n",
    "    \n",
    "    # Convert probabilities p[0,i] to actual predictions.\n",
    "    Y_prediction[p <= 0.5] = 0\n",
    "    Y_prediction[p > 0.5] = 1\n",
    "    \n",
    "    assert(Y_prediction.shape == (1, m))\n",
    "    \n",
    "    return Y_prediction"
   ]
  },
  {
   "cell_type": "code",
   "execution_count": 34,
   "metadata": {},
   "outputs": [],
   "source": [
    "train_predictions = predict(model[\"w\"], model[\"b\"], train_images)\n",
    "test_predictions = predict(model[\"w\"], model[\"b\"], val_images)"
   ]
  },
  {
   "cell_type": "code",
   "execution_count": 98,
   "metadata": {},
   "outputs": [
    {
     "name": "stdout",
     "output_type": "stream",
     "text": [
      "[[0. 0. 0. ... 0. 1. 0.]]\n",
      "[[0 0 0 ... 0 1 0]]\n",
      "1515\n"
     ]
    }
   ],
   "source": [
    "print(train_predictions)\n",
    "print(train_label)\n",
    "print((train_predictions-train_label != 0).astype(int)[train_predictions == 0].sum())"
   ]
  },
  {
   "cell_type": "code",
   "execution_count": 118,
   "metadata": {},
   "outputs": [],
   "source": [
    "def calc_metrics(pred_llbs, act_lbls, lbl):\n",
    "    \n",
    "    accuracy = 100 - np.mean(np.abs(pred_llbs - act_lbls))*100\n",
    "    \n",
    "    TP = (pred_llbs-act_lbls==0).astype(int)[pred_llbs == 1].sum()\n",
    "    FP = (pred_llbs-act_lbls != 0).astype(int)[pred_llbs == 1].sum()\n",
    "    FN = (pred_llbs-act_lbls != 0).astype(int)[pred_llbs == 0].sum()\n",
    "    TN = (pred_llbs-act_lbls==0).astype(int)[pred_llbs == 0].sum()\n",
    "    \n",
    "    recall = TP/(TP+FN)\n",
    "    specificity = TN/(TN + FP)\n",
    "    precision = TP/(TP + FP)\n",
    "    \n",
    "    # Print train/test Errors.\n",
    "    print(\"Accuracy: {} %\".format(accuracy))\n",
    "    print(\"Recall: \" + str(recall))\n",
    "    print(\"Specificity: \" + str(specificity))\n",
    "    print(\"Precision: \" + str(specificity))\n",
    "    \n",
    "    conf_mat = [[TP, FP], [FN, TN]]\n",
    "\n",
    "    predict_lbl = [\"Predicted \" + lbl, \"Predicted non-\" + lbl]\n",
    "    actual_lbl = [\"Actual \" + lbl, \"Actual non-\" + lbl]\n",
    "\n",
    "    fig = plt.figure()\n",
    "    ax = fig.add_subplot(111)\n",
    "    cax = ax.matshow(conf_mat)\n",
    "    fig.colorbar(cax)\n",
    "\n",
    "    ax.set_xticklabels([''] + predict_lbl)\n",
    "    ax.set_yticklabels([''] + actual_lbl)\n",
    "\n",
    "    plt.show()"
   ]
  },
  {
   "cell_type": "code",
   "execution_count": 119,
   "metadata": {},
   "outputs": [
    {
     "name": "stdout",
     "output_type": "stream",
     "text": [
      "Accuracy: 85.43023416932243 %\n",
      "Recall: 0.7457200402819738\n",
      "Specificity: 0.930627654554035\n",
      "Precision: 0.930627654554035\n"
     ]
    },
    {
     "data": {
      "image/png": "[encoded data removed]",
      "text/plain": [
       "<Figure size 432x288 with 2 Axes>"
      ]
     },
     "metadata": {
      "needs_background": "light"
     },
     "output_type": "display_data"
    }
   ],
   "source": [
    "calc_metrics(train_predictions, train_label, \"cassette\")"
   ]
  },
  {
   "cell_type": "code",
   "execution_count": 39,
   "metadata": {},
   "outputs": [
    {
     "name": "stdout",
     "output_type": "stream",
     "text": [
      "Accuracy: 85.43023416932243 %\n",
      "\n",
      "Number of images in dataset: 14434\n",
      "Predicted number of cassette players: 5031.0\n",
      "Actual number of cassette players: 5958\n",
      "41.277539143688514% of images are cassette player images.\n",
      "\n",
      "Accuracy: 88.48407643312102 %\n",
      "\n",
      "Number of images in dataset: 3925\n",
      "Predicted number of cassette players: 425.0\n",
      "Actual number of cassette players: 357\n",
      "9.095541401273884% of images are cassette player images.\n",
      "\n"
     ]
    }
   ],
   "source": [
    "test_model(train_predictions, train_label)\n",
    "test_model(test_predictions, val_label)"
   ]
  },
  {
   "cell_type": "code",
   "execution_count": 40,
   "metadata": {},
   "outputs": [],
   "source": [
    "def rand_img_pred(images, predictions, label):\n",
    "    i = np.random.randint(images.shape[0] - 1)\n",
    "    if predictions[:,i] == 1:\n",
    "        plt.imshow(images[i].reshape(px_num,px_num,3))\n",
    "        plt.title(label)\n",
    "    else:\n",
    "        plt.imshow(images[i].reshape(px_num,px_num,3))\n",
    "        plt.title(\"Non-\" + label)"
   ]
  },
  {
   "cell_type": "code",
   "execution_count": 83,
   "metadata": {},
   "outputs": [
    {
     "data": {
      "image/png": "[encoded data removed]",
      "text/plain": [
       "<Figure size 432x288 with 1 Axes>"
      ]
     },
     "metadata": {
      "needs_background": "light"
     },
     "output_type": "display_data"
    }
   ],
   "source": [
    "rand_img_pred(val_images_orig, test_predictions, lbl)"
   ]
  },
  {
   "cell_type": "markdown",
   "metadata": {},
   "source": [
    "Logistic regression is one of many activation functions such as tanh, ReLU, etc. We will cover these other activation functions later along with their pros and cons. For now, however, we'll focus on logistic regression activation functions for now.\n",
    "\n",
    "I'll assume someone reading this may ask the same question I did once: \"Is this really an accurate approximation of a neuron's response to recieved neurotransmitters?\" If you're truly curious, I recommend looking into some literature related to [biological neuron models](https://en.wikipedia.org/wiki/Biological_neuron_model) (aslo called spike models) in computational neuroscience. A spike model is neuroscience's approximation of this response. You'll soon find just how different they are from a machine learning's logistic regression approximation. For a large list of biological spike models, there is a [cell model database](https://senselab.med.yale.edu/ModelDB/ModelList?id=3537) from Yale that contains hundreds of models for neuron cells, and many other cells. And these models still have room for improvement themselves, although some methods like [Multi-Timescale Adaptive Thresholding](https://www.ncbi.nlm.nih.gov/pmc/articles/PMC2722979/) seems to be getting better results recently.\n",
    "\n",
    "Compared with the spike models in computational neuroscience, logistic regression is clearly a very simplified approximate. However, it does satisfy one important aspect of them: if a value exceeds a certain threshold, respond. In the neuron's case, this is the neuron's depolarization exceeding a threshhold of -55$mV$. Another important thing to add is that these sigmoid functions in logistic regression, though very rough estimates of what is actually happening, do work and have given great results. Machine learning still has not found an answer as to why NN's work so well either, we simply know it does. What's important about this is that it gives machine learning a place to start, with plenty of room to grow into much stronger approximations in the coming decades (if not years). Who knows, you may be someone to advance NN's yourself."
   ]
  }
 ],
 "metadata": {
  "kernelspec": {
   "display_name": "Python 3",
   "language": "python",
   "name": "python3"
  },
  "language_info": {
   "codemirror_mode": {
    "name": "ipython",
    "version": 3
   },
   "file_extension": ".py",
   "mimetype": "text/x-python",
   "name": "python",
   "nbconvert_exporter": "python",
   "pygments_lexer": "ipython3",
   "version": "3.7.4"
  }
 },
 "nbformat": 4,
 "nbformat_minor": 4
}
