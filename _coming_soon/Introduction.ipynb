{
 "cells": [
  {
   "cell_type": "markdown",
   "metadata": {},
   "source": [
    "<a id = \"intro\"></a>\n",
    "## Introduction\n",
    "\n",
    "---\n",
    "\n",
    "This is a beginner's tutorial for all things neural networks and deep learning. A lot of this is from my own exploration of neural networks, all compiled into a self contained study. My hopes are that this will cover the theoretical, experimental and applicable sides of neural networks, as well as how they all come together. Often times these different perspectives tend to lead readers away from each other. Hopefully, this will help relieve some of the resulting blind spots we all find ourselves having to bridge.\n",
    "\n",
    "Something to know now is that these tutorials will be long, simply due to being so thorough. For those who like to dig even deeper into further readings, I have also imbedded many links throughout this tutorial with even more details. It wouldn't be surprising if this tutorial takes a few days to go through. But that isn't very surprising given we are exploring neural networks through many different perspectives. \n",
    "\n",
    "I'll start by covering neural networks and neurons within neuroscience and how machine learning got it's inspiration from them. Then, we'll move on to some successful applications they've been used for. We'll also see in that section current room for future applications of NN's (Neural Networks). Finally after we've covered what NN's are and their applications, we'll start to explore their fundamentals (logistic regression, shallow and deep NN's, forward/backward-propagation, associated mathematics, etc.)."
   ]
  },
  {
   "cell_type": "markdown",
   "metadata": {},
   "source": [
    "<a id = \"toc\"></a>\n",
    "### Table of Content\n",
    "\n",
    "\n",
    "---\n",
    "<ul>\n",
    "    <a href=#intro style=\"text-decoration:none\">Introduction</a><br/>\n",
    "    <a href=#toc style=\"text-decoration:none\">Table of Content</a><br/>\n",
    "    <a href=#neuroscience style=\"text-decoration:none\">Neural Networks within Neuroscience</a><br/>\n",
    "        &emsp;&emsp;<a href=#dendrites style=\"text-decoration:none\">Dendrites</a><br/>\n",
    "        &emsp;&emsp;<a href=#soma style=\"text-decoration:none\">The Cell's Body (or Soma)</a><br/>\n",
    "        &emsp;&emsp;<a href=#axon style=\"text-decoration:none\">Axon</a><br/>\n",
    "        &emsp;&emsp;<a href=#axon-term style=\"text-decoration:none\">Presynaptic Axon Terminal</a><br/>\n",
    "        &emsp;&emsp;<a href=#synapses style=\"text-decoration:none\">Synapses</a><br/>\n",
    "    <a href=#nn-ml style=\"text-decoration:none\">Neural Networks within Machine Learning</a><br/>\n",
    "    <a href=#know-data style=\"text-decoration:none\">Knowing Your Data</a><br/>\n",
    "        &emsp;&emsp;<a href=#structured-data-sets style=\"text-decoration:none\">Real World Data to Structured Data Sets</a><br/>\n",
    "    <a href=#basics style=\"text-decoration:none\">The Basic Components in Neural Networks: Logistic Regression, Computational Graphs, and Backpropagation</a><br/>\n",
    "        &emsp;&emsp;<a href=#logistic-regression style=\"text-decoration:none\">Logistic Regression</a><br/>\n",
    "    <a href=#shallow-nn style=\"text-decoration:none\">Shallow Neural Networks</a><br/>\n",
    "    <a href=#deep-nn style=\"text-decoration:none\">Deep Neural Networks</a><br/>\n",
    "    <a href=#final-statement style=\"text-decoration:none\">Final Statement</a><br/>\n",
    "</ul>\n",
    "\n",
    "After finishing this tutorial, you should be able to code neural networks with a thorough knowledge as to how they work. You will have no problem moving on to further topics. Anyways, let's get started!"
   ]
  }
 ],
 "metadata": {
  "kernelspec": {
   "display_name": "Python 3",
   "language": "python",
   "name": "python3"
  },
  "language_info": {
   "codemirror_mode": {
    "name": "ipython",
    "version": 3
   },
   "file_extension": ".py",
   "mimetype": "text/x-python",
   "name": "python",
   "nbconvert_exporter": "python",
   "pygments_lexer": "ipython3",
   "version": "3.7.4"
  }
 },
 "nbformat": 4,
 "nbformat_minor": 4
}
