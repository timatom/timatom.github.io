{
 "cells": [
  {
   "cell_type": "markdown",
   "metadata": {},
   "source": [
    "<a id = \"know-data\"></a>\n",
    "### Retrieving and Exploring Datasets\n",
    "\n",
    "---\n",
    "\n",
    "There are many sources for your data, ranging from simple csv files to large scale databases. For simplicity, we'll explore fast.ai's [imagenette](https://github.com/fastai/imagenette) dataset. Instead of simply using their library to obtain already structured data, though, we'll simply download the data and process it ourselves."
   ]
  },
  {
   "cell_type": "code",
   "execution_count": 1,
   "metadata": {},
   "outputs": [],
   "source": [
    "import numpy as np\n",
    "import cv2\n",
    "import os\n",
    "from matplotlib import pyplot as plt\n",
    "import time\n",
    "\n",
    "# Load image files from local imagewoof2 training dataset\n",
    "train_path = 'C:/Datasets/computer_vision/imagenette2/train/'\n",
    "val_path = 'C:/Datasets/computer_vision/imagenette2/val/'"
   ]
  },
  {
   "cell_type": "code",
   "execution_count": 2,
   "metadata": {},
   "outputs": [],
   "source": [
    "labels_dict = dict(\n",
    "    n01440764='tench',\n",
    "    n02102040='English springer',\n",
    "    n02979186='cassette player',\n",
    "    n03000684='chain saw',\n",
    "    n03028079='church',\n",
    "    n03394916='French horn',\n",
    "    n03417042='garbage truck',\n",
    "    n03425413='gas pump',\n",
    "    n03445777='golf ball',\n",
    "    n03888257='parachute'\n",
    ")\n",
    "\n",
    "def labelfunc(class_file):\n",
    "    return labels_dict[class_file]"
   ]
  },
  {
   "cell_type": "code",
   "execution_count": 3,
   "metadata": {},
   "outputs": [],
   "source": [
    "def crop2sqr(img):\n",
    "    y = img.shape[0]\n",
    "    x = img.shape[1]\n",
    "    \n",
    "    y_center = y/2\n",
    "    x_center = x/2\n",
    "\n",
    "    width_hieght = np.array([y, x]).min()\n",
    "\n",
    "    tp_crnr = int(y_center - width_hieght/2)\n",
    "    btm_crnr = int(y_center + width_hieght/2)\n",
    "    lft_crnr = int(x_center - width_hieght/2)\n",
    "    rght_crnr = int(x_center + width_hieght/2)\n",
    "    \n",
    "    return img[tp_crnr:btm_crnr, lft_crnr:rght_crnr]"
   ]
  },
  {
   "cell_type": "code",
   "execution_count": 4,
   "metadata": {},
   "outputs": [],
   "source": [
    "def load_img_data(path, px_num):\n",
    "    class_files = os.listdir(path)\n",
    "    images = []\n",
    "    labels = []\n",
    "\n",
    "    print(\"Loading images...\")\n",
    "    start = time.time()\n",
    "    \n",
    "    for class_file in class_files:\n",
    "        img_files = os.listdir(path + class_file)\n",
    "        \n",
    "        for img_file in img_files:\n",
    "            img = cv2.imread(path + class_file + '/' + img_file)\n",
    "            rgb_img = cv2.cvtColor(img, cv2.COLOR_BGR2RGB)\n",
    "            #rgb_img = crop2sqr(rgb_img)\n",
    "            rgb_img = cv2.resize(rgb_img, (px_num, px_num) , interpolation = cv2.INTER_AREA)\n",
    "\n",
    "            images.append(rgb_img)\n",
    "            labels.append(labelfunc(class_file))\n",
    "            \n",
    "    end = time.time()        \n",
    "    print(\"Time to load images: \" + str(end-start) + \" seconds.\")\n",
    "        \n",
    "    return np.array(images), np.array(labels)"
   ]
  },
  {
   "cell_type": "code",
   "execution_count": 5,
   "metadata": {},
   "outputs": [],
   "source": [
    "def sample_img(images, labels, px_num):\n",
    "    i = np.random.randint(len(images) - 1)\n",
    "\n",
    "    plt.imshow(images[i])\n",
    "    plt.title(labels[i])\n"
   ]
  },
  {
   "cell_type": "code",
   "execution_count": 7,
   "metadata": {},
   "outputs": [
    {
     "name": "stdout",
     "output_type": "stream",
     "text": [
      "Loading images...\n",
      "Time to load images: 90.88762950897217 seconds.\n",
      "Loading images...\n",
      "Time to load images: 70.77817487716675 seconds.\n"
     ]
    }
   ],
   "source": [
    "px_num = 64\n",
    "\n",
    "train_images_orig, train_labels_orig = load_img_data(train_path, px_num)\n",
    "val_images_orig, val_labels_orig = load_img_data(val_path, px_num)"
   ]
  },
  {
   "cell_type": "code",
   "execution_count": 8,
   "metadata": {},
   "outputs": [
    {
     "name": "stdout",
     "output_type": "stream",
     "text": [
      "Training Image dataset shape: (9469, 64, 64, 3)\n",
      "Number of training examples: 9469\n",
      "Dimension of each training image: (64, 64, 3)\n",
      "\n",
      "Test Image dataset shape: (3925, 64, 64, 3)\n",
      "Number of test examples: 3925\n",
      "Dimension of each test image: (64, 64, 3)\n"
     ]
    }
   ],
   "source": [
    "print(\"Training Image dataset shape: \" + str(train_images_orig.shape))\n",
    "print(\"Number of training examples: \" + str(train_images_orig.shape[0]))\n",
    "print(\"Dimension of each training image: \" + \"(\" + str(train_images_orig.shape[1]) + \", \" + str(train_images_orig.shape[2]) + \", \" + str(train_images_orig.shape[3]) + \")\")\n",
    "\n",
    "print(\"\\nTest Image dataset shape: \" + str(val_images_orig.shape))\n",
    "print(\"Number of test examples: \" + str(val_images_orig.shape[0]))\n",
    "print(\"Dimension of each test image: \" + \"(\" + str(val_images_orig.shape[1]) + \", \" + str(val_images_orig.shape[2]) + \", \" + str(val_images_orig.shape[3]) + \")\")"
   ]
  },
  {
   "cell_type": "code",
   "execution_count": 9,
   "metadata": {},
   "outputs": [
    {
     "data": {
      "image/png": "[encoded data removed]",
      "text/plain": [
       "<Figure size 432x288 with 1 Axes>"
      ]
     },
     "metadata": {
      "needs_background": "light"
     },
     "output_type": "display_data"
    }
   ],
   "source": [
    "sample_img(train_images_orig, train_labels_orig, px_num)"
   ]
  },
  {
   "cell_type": "markdown",
   "metadata": {},
   "source": [
    "<a id = \"structured-data-sets\"></a>\n",
    "### Real World Data to Structured Data Sets\n",
    "\n",
    "---\n",
    "\n",
    "Assuming we now understand our real world data and our intended application(s) (namely, image classification), we now are ready to structure it into training and test datasets.\n",
    "\n",
    "When we retrieve our data, there are many ways it can be stored. It could be stored as a simple csv all the way to a Big Data database like Cassandra or MongoDB. No matter where it's stored, though, mathematically we respresent it as a matrix. Let's assume our real world data is the following $n \\times m$ matrix: <br/>\n",
    "\n",
    "${D} = \\begin{bmatrix} d_{1,1} & d_{1,2} & \\cdots & d_{1,m} \\\\ d_{2,1} & d_{2,2} & \\cdots & d_{2,m} \\\\ \\vdots & \\vdots & \\vdots & \\vdots \\\\ d_{n,1} & d_{n,2} & \\cdots & d_{n,m} \\end{bmatrix},$ where there are $n$ variables with $m$ examples such that ${D} {\\in} {R^{n \\times m}}.$\n",
    "\n",
    "While it is arbitrary which orientation you choose, I'll make it clear here that each row of $m$ values in this matrix represents the values of a variable, rather than each column of $n$ values.\n",
    "\n",
    "Given this data, we want to predict some value/label for a target variable given several features. What is your target variable and your features depends completely on your goals and given data, which is why understanding your data is so important. Since we've already covered understanding our data, let's assume we went through our data, understand what association(s) we want to make with our data, and decided on what features and target(s) suits our goal(s) best. Knowing this, we now can represent our data as follows:\n",
    "\n",
    "${D} = \\begin{bmatrix} y_1 & y_2 & \\cdots & y_m \\\\ x_{1,1} & x_{1,2} & \\cdots & x_{1,m} \\\\ x_{2,1} & x_{2,2} & \\cdots & x_{2,m} \\\\ \\vdots & \\vdots & \\vdots & \\vdots \\\\ x_{n_x,1} & x_{n_x,2} & \\cdots & x_{n_x,m} \\end{bmatrix},$ where the $j^{th}$ feature vector is ${x_{\\ast,j}}{\\in}R^{n_x}$ and $j^{th}$ target is ${y_j}{\\in}\\{0,1\\}$. <br/>\n",
    "\n",
    "Representing each $j^{th}$ feature vector as ${x_{\\ast,j}}{\\in}R^{n_x}$, where $n_x$ is the number of features, our matrix reduces further as: <br/>\n",
    "\n",
    "${D} = \\begin{bmatrix} y_1 & y_2 & \\cdots & y_m \\\\ x_{\\ast,1} & x_{\\ast,2} & \\cdots & x_{\\ast,m} \\end{bmatrix}.$\n",
    "\n",
    "It seems we've reduced our matrix a bit, but we can do better. So far, it's clear what is our features and our target(s) within our matrix. But we can represent all of our feature vectors together as follows: <br/>\n",
    "\n",
    "$ {X} = \\begin{bmatrix} x_{\\ast,1} & x_{\\ast,2} & \\cdots & x_{\\ast,m} \\end{bmatrix},$ where ${X}{\\in}{R^{n_x \\times m}}.$\n",
    "\n",
    "In statistics this matrix is called a design matrix, while in machine learning it is called a feature matrix. Since we are dealing directly within the context of machine learning, we'll simply call it a feature matrix. In the end, it is just a matrix representation of all of our feature vectors.\n",
    "\n",
    "Next, we represent all of our m targets as the following row vector:\n",
    "\n",
    "$ {Y} = \\begin{bmatrix} y_{1} & y_{2} & \\cdots & y_{m} \\end{bmatrix},$ where ${Y}{\\in}{R^{1 \\times m}}.$\n",
    "\n",
    "Now that we have our feature matrix and target vector, our matrix $D$ becomes:\n",
    "\n",
    "${D} = \\begin{bmatrix} Y \\\\ X \\end{bmatrix},$ where ${Y}{\\in}{R^{1 \\times m}}$, ${X}{\\in}{R^{n_x \\times m}}$, and ${D}{\\in}{R^{n\\times m}}.$ <br/>\n",
    "\n",
    "This is how we mathematically express our theoretical dataset as a matrix of two submatrices, our feature matrix X and target vector Y."
   ]
  },
  {
   "cell_type": "code",
   "execution_count": 10,
   "metadata": {},
   "outputs": [],
   "source": [
    "def lbl_list(labels):\n",
    "    return np.unique(labels)"
   ]
  },
  {
   "cell_type": "code",
   "execution_count": 11,
   "metadata": {},
   "outputs": [],
   "source": [
    "def img_augment(images, labels, label):\n",
    "    perc_pos = (labels[labels==label].shape[0]/labels.shape[0]) # Percent of data consiting of positive data.\n",
    "    \n",
    "    if perc_pos < 0.4:\n",
    "        sub_images = images[labels == label]\n",
    "        aug_images = []\n",
    "        aug_labels = []\n",
    "\n",
    "        for image in sub_images:\n",
    "            aug_images.append(cv2.rotate(image, cv2.ROTATE_180))\n",
    "            aug_labels.append(label)\n",
    "            aug_images.append(cv2.rotate(image, cv2.ROTATE_90_COUNTERCLOCKWISE))\n",
    "            aug_labels.append(label)\n",
    "\n",
    "        images = np.concatenate((np.array(aug_images), images), axis=0)\n",
    "        labels = np.concatenate((np.array(aug_labels), labels), axis=0)\n",
    "\n",
    "        sub_images = images[labels == label]\n",
    "        aug_images = []\n",
    "        aug_labels = []\n",
    "\n",
    "        for image in sub_images:\n",
    "            srcTri = np.array( [[0, 0], [image.shape[1] - 1, 0], [0, image.shape[0] - 1]] ).astype(np.float32)\n",
    "            dstTri = np.array( [[0, image.shape[1]*0.33], [image.shape[1]*0.85, image.shape[0]*0.25], [image.shape[1]*0.15, image.shape[0]*0.7]] ).astype(np.float32)\n",
    "\n",
    "            warp_mat = cv2.getAffineTransform(srcTri, dstTri)\n",
    "            warp_img = cv2.warpAffine(image, warp_mat, (image.shape[1], image.shape[0]))\n",
    "\n",
    "            aug_images.append(warp_img)\n",
    "            aug_labels.append(label)\n",
    "\n",
    "        images = np.concatenate((np.array(aug_images), images), axis=0)\n",
    "        labels = np.concatenate((np.array(aug_labels), labels), axis=0)\n",
    "    else:\n",
    "        print(\"Data Augmentation cancelled! Data currently balanced!\")\n",
    "        \n",
    "    return images, labels"
   ]
  },
  {
   "cell_type": "code",
   "execution_count": 12,
   "metadata": {},
   "outputs": [],
   "source": [
    "lbl = 'cassette player'\n",
    "train_images_aug, train_labels_aug = img_augment(train_images_orig, train_labels_orig, lbl)"
   ]
  },
  {
   "cell_type": "code",
   "execution_count": 13,
   "metadata": {},
   "outputs": [
    {
     "name": "stdout",
     "output_type": "stream",
     "text": [
      "41.277539143688514 % of dataset is positive.\n"
     ]
    }
   ],
   "source": [
    "perc_pos = (train_labels_aug[train_labels_aug==lbl].shape[0]/train_labels_aug.shape[0])\n",
    "\n",
    "print(str(perc_pos*100) + \" % of dataset is positive.\")"
   ]
  },
  {
   "cell_type": "code",
   "execution_count": 14,
   "metadata": {},
   "outputs": [],
   "source": [
    "def shuffle_imgs(images, labels):\n",
    "    random_state = np.random.get_state()\n",
    "    np.random.shuffle(images)\n",
    "    np.random.set_state(random_state)\n",
    "    np.random.shuffle(labels)\n",
    "    \n",
    "    return images, labels"
   ]
  },
  {
   "cell_type": "code",
   "execution_count": 15,
   "metadata": {},
   "outputs": [],
   "source": [
    "train_images_orig, train_labels_orig = shuffle_imgs(train_images_aug, train_labels_aug)\n",
    "val_images_orig, val_labels_orig = shuffle_imgs(val_images_orig, val_labels_orig)"
   ]
  },
  {
   "cell_type": "code",
   "execution_count": 16,
   "metadata": {},
   "outputs": [],
   "source": [
    "def restructure_data(images, labels):\n",
    "    images = images.reshape(images.shape[0], -1).T \n",
    "    labels = labels.reshape(1,len(labels))\n",
    "    return images, labels"
   ]
  },
  {
   "cell_type": "code",
   "execution_count": 17,
   "metadata": {},
   "outputs": [],
   "source": [
    "train_images, train_labels = restructure_data(train_images_orig, train_labels_orig)\n",
    "val_images, val_labels = restructure_data(val_images_orig, val_labels_orig)"
   ]
  },
  {
   "cell_type": "code",
   "execution_count": 18,
   "metadata": {},
   "outputs": [
    {
     "name": "stdout",
     "output_type": "stream",
     "text": [
      "train_images shape: (12288, 14434)\n",
      "train_labels shape: (1, 14434)\n",
      "val_images shape: (12288, 3925)\n",
      "val_labels shape: (1, 3925)\n"
     ]
    }
   ],
   "source": [
    "print(\"train_images shape: \" + str(train_images.shape))\n",
    "print(\"train_labels shape: \" + str(train_labels.shape))\n",
    "\n",
    "print(\"val_images shape: \" + str(val_images.shape))\n",
    "print(\"val_labels shape: \" + str(val_labels.shape))"
   ]
  },
  {
   "cell_type": "code",
   "execution_count": 19,
   "metadata": {},
   "outputs": [],
   "source": [
    "def standardize(images):\n",
    "    return images/255"
   ]
  },
  {
   "cell_type": "code",
   "execution_count": 20,
   "metadata": {},
   "outputs": [],
   "source": [
    "train_images = standardize(train_images)\n",
    "val_images = standardize(val_images)"
   ]
  },
  {
   "cell_type": "code",
   "execution_count": 21,
   "metadata": {},
   "outputs": [
    {
     "name": "stdout",
     "output_type": "stream",
     "text": [
      "Example of new feature values in training dataset: [1. 1. 1. 1. 1.]\n"
     ]
    }
   ],
   "source": [
    "print(\"Example of new feature values in training dataset: \" + str(train_images[0:5, 0]))"
   ]
  }
 ],
 "metadata": {
  "kernelspec": {
   "display_name": "Python 3",
   "language": "python",
   "name": "python3"
  },
  "language_info": {
   "codemirror_mode": {
    "name": "ipython",
    "version": 3
   },
   "file_extension": ".py",
   "mimetype": "text/x-python",
   "name": "python",
   "nbconvert_exporter": "python",
   "pygments_lexer": "ipython3",
   "version": "3.7.4"
  }
 },
 "nbformat": 4,
 "nbformat_minor": 4
}
