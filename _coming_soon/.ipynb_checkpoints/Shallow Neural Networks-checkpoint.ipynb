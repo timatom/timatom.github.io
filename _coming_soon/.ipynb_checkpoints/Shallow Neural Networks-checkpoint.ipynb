{
 "cells": [
  {
   "cell_type": "markdown",
   "metadata": {},
   "source": [
    "<a id = \"shallow-nn\"></a>\n",
    "## Shallow Neural Networks\n",
    "\n",
    "---\n",
    "\n",
    "Since we now understand the basic building blocks that make up our representation of neural network, we now turn to creating a full-fledged network. It'll be a basic network, but a neural network nonetheless."
   ]
  }
 ],
 "metadata": {
  "kernelspec": {
   "display_name": "Python 3",
   "language": "python",
   "name": "python3"
  },
  "language_info": {
   "codemirror_mode": {
    "name": "ipython",
    "version": 3
   },
   "file_extension": ".py",
   "mimetype": "text/x-python",
   "name": "python",
   "nbconvert_exporter": "python",
   "pygments_lexer": "ipython3",
   "version": "3.7.4"
  }
 },
 "nbformat": 4,
 "nbformat_minor": 4
}
